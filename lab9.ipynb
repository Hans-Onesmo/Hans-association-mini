{
 "cells": [
  {
   "cell_type": "code",
   "execution_count": 1,
   "id": "44be402d",
   "metadata": {},
   "outputs": [
    {
     "name": "stdout",
     "output_type": "stream",
     "text": [
      "Transaction 1: ['Butter', 'Eggs', 'Apples']\n",
      "Transaction 2: ['Apples', 'Bananas', 'Cheese', 'Bread', 'Yogurt']\n",
      "Transaction 3: ['Bread', 'Butter']\n",
      "Transaction 4: ['Eggs', 'Milk', 'Apples', 'Butter', 'Bread']\n",
      "Transaction 5: ['Eggs', 'Yogurt', 'Cheese', 'Bread', 'Bananas']\n",
      "Transaction 6: ['Eggs', 'Milk', 'Bananas', 'Bread']\n",
      "Transaction 7: ['Yogurt', 'Cheese', 'Butter', 'Eggs', 'Milk']\n",
      "Transaction 8: ['Eggs', 'Apples', 'Bananas', 'Yogurt', 'Milk']\n",
      "Transaction 9: ['Bread', 'Apples', 'Eggs']\n",
      "Transaction 10: ['Bananas', 'Apples', 'Cheese', 'Milk']\n"
     ]
    }
   ],
   "source": [
    "import pandas as pd\n",
    "import random\n",
    "\n",
    "# List of items to choose from\n",
    "items = ['Bread', 'Milk', 'Eggs', 'Cheese', 'Butter', 'Apples', 'Bananas', 'Yogurt']\n",
    "\n",
    "# Create 10 fake transactions\n",
    "transactions = []\n",
    "for i in range(10):\n",
    "    transaction = random.sample(items, random.randint(2, 5))  # pick 2 to 5 items\n",
    "    transactions.append(transaction)\n",
    "\n",
    "# Show the transactions\n",
    "for i, t in enumerate(transactions):\n",
    "    print(f\"Transaction {i+1}: {t}\")\n"
   ]
  },
  {
   "cell_type": "code",
   "execution_count": 2,
   "id": "0055b83a",
   "metadata": {},
   "outputs": [
    {
     "name": "stdout",
     "output_type": "stream",
     "text": [
      "\n",
      "Frequent Itemsets:\n",
      "    support           itemsets\n",
      "0       0.6           (Apples)\n",
      "1       0.5          (Bananas)\n",
      "2       0.6            (Bread)\n",
      "3       0.4           (Butter)\n",
      "4       0.4           (Cheese)\n",
      "5       0.7             (Eggs)\n",
      "6       0.5             (Milk)\n",
      "7       0.4           (Yogurt)\n",
      "8       0.3  (Apples, Bananas)\n",
      "9       0.3    (Apples, Bread)\n",
      "10      0.4     (Apples, Eggs)\n",
      "11      0.3     (Apples, Milk)\n",
      "12      0.3   (Bananas, Bread)\n",
      "13      0.3  (Bananas, Cheese)\n",
      "14      0.3    (Bananas, Eggs)\n",
      "15      0.3    (Bananas, Milk)\n",
      "16      0.3  (Bananas, Yogurt)\n",
      "17      0.4      (Eggs, Bread)\n",
      "18      0.3     (Eggs, Butter)\n",
      "19      0.3   (Yogurt, Cheese)\n",
      "20      0.4       (Eggs, Milk)\n",
      "21      0.3     (Eggs, Yogurt)\n"
     ]
    }
   ],
   "source": [
    "from mlxtend.preprocessing import TransactionEncoder\n",
    "from mlxtend.frequent_patterns import apriori\n",
    "\n",
    "# Convert transactions to a format suitable for mlxtend\n",
    "te = TransactionEncoder()\n",
    "te_array = te.fit(transactions).transform(transactions)\n",
    "df = pd.DataFrame(te_array, columns=te.columns_)\n",
    "\n",
    "# Apply the Apriori algorithm with support ≥ 0.3 (30%)\n",
    "frequent_itemsets = apriori(df, min_support=0.3, use_colnames=True)\n",
    "\n",
    "print(\"\\nFrequent Itemsets:\")\n",
    "print(frequent_itemsets)\n"
   ]
  },
  {
   "cell_type": "code",
   "execution_count": 4,
   "id": "23d91d7a",
   "metadata": {},
   "outputs": [
    {
     "name": "stdout",
     "output_type": "stream",
     "text": [
      "\n",
      "Association Rules:\n",
      "  antecedents consequents  support  confidence\n",
      "0    (Cheese)   (Bananas)      0.3        0.75\n",
      "1    (Yogurt)   (Bananas)      0.3        0.75\n",
      "2    (Butter)      (Eggs)      0.3        0.75\n",
      "3    (Yogurt)    (Cheese)      0.3        0.75\n",
      "4    (Cheese)    (Yogurt)      0.3        0.75\n",
      "5      (Milk)      (Eggs)      0.4        0.80\n",
      "6    (Yogurt)      (Eggs)      0.3        0.75\n",
      "\n",
      " Rule Explanation:\n",
      "If someone buys ['Cheese'], they are also likely to buy ['Bananas'].\n",
      "This happens with 75% confidence.\n",
      "\n"
     ]
    }
   ],
   "source": [
    "from mlxtend.frequent_patterns import association_rules\n",
    "\n",
    "# Create rules with confidence ≥ 0.7 (70%)\n",
    "rules = association_rules(frequent_itemsets, metric=\"confidence\", min_threshold=0.7)\n",
    "\n",
    "print(\"\\nAssociation Rules:\")\n",
    "print(rules[['antecedents', 'consequents', 'support', 'confidence']])\n",
    "\n",
    "# Explain one rule simply\n",
    "if not rules.empty:\n",
    "    rule = rules.iloc[0]\n",
    "    print(f\"\"\"\n",
    " Rule Explanation:\n",
    "If someone buys {list(rule['antecedents'])}, they are also likely to buy {list(rule['consequents'])}.\n",
    "This happens with {round(rule['confidence'] * 100)}% confidence.\n",
    "\"\"\")\n",
    "else:\n",
    "    print(\"No rules found with that threshold.\")\n"
   ]
  }
 ],
 "metadata": {
  "kernelspec": {
   "display_name": "base",
   "language": "python",
   "name": "python3"
  },
  "language_info": {
   "codemirror_mode": {
    "name": "ipython",
    "version": 3
   },
   "file_extension": ".py",
   "mimetype": "text/x-python",
   "name": "python",
   "nbconvert_exporter": "python",
   "pygments_lexer": "ipython3",
   "version": "3.9.13"
  }
 },
 "nbformat": 4,
 "nbformat_minor": 5
}
